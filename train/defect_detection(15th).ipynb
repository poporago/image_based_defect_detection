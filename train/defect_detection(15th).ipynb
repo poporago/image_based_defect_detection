{
 "cells": [
  {
   "cell_type": "markdown",
   "metadata": {
    "id": "qgPkNRHcjbgx"
   },
   "source": [
    "# 라이브러리 임포트"
   ]
  },
  {
   "cell_type": "code",
   "execution_count": 273,
   "metadata": {
    "id": "s7yWsjIvjbg1"
   },
   "outputs": [],
   "source": [
    "import pandas as pd\n",
    "from sklearn.model_selection import train_test_split\n",
    "import torch\n",
    "import torch.nn as nn\n",
    "import torch.nn.functional as F\n",
    "from torch.utils.data import Dataset, DataLoader\n",
    "import cv2\n",
    "import matplotlib.pyplot as plt\n",
    "import numpy as np\n",
    "import torchvision.transforms as T\n",
    "import timm #코랩에서 설치필요\n",
    "from sklearn.metrics import accuracy_score, f1_score\n",
    "from glob import glob\n",
    "import os\n",
    "from tqdm import tqdm\n",
    "\n",
    "## 추가 import\n",
    "import random # 파이썬 랜덤모듈, 시드고정\n",
    "\n",
    "\n",
    "#Augmentation Libraries 임포트\n",
    "import albumentations as A #  vs torchivision.transforms\n",
    "from albumentations.pytorch import ToTensorV2\n",
    "from torchvision.transforms import ToTensor\n",
    "from torch.utils.data import Subset"
   ]
  },
  {
   "cell_type": "markdown",
   "metadata": {
    "id": "VjBRWpIDjbg2"
   },
   "source": [
    "# Configuration 설정"
   ]
  },
  {
   "cell_type": "code",
   "execution_count": 274,
   "metadata": {
    "id": "12BLweyZbZY3"
   },
   "outputs": [],
   "source": [
    "### YOU NEED TO SET THESE HYPER-PARAMETES ###\n",
    "\n",
    "epochs = 10\n",
    "lr = 1e-4\n",
    "batch_size = 16\n",
    "\n",
    "\n",
    "#####################################"
   ]
  },
  {
   "cell_type": "code",
   "execution_count": 275,
   "metadata": {
    "id": "fqSSQ8hN7UBn"
   },
   "outputs": [],
   "source": [
    "random.seed(42)\n",
    "torch.manual_seed(42)\n",
    "np.random.seed(42)\n",
    "torch.cuda.manual_seed(42)\n",
    "device = \"cuda\" if torch.cuda.is_available() else \"cpu\"\n",
    "# cudnn을 사용하는 로컬 환경에서(?)\n",
    "#torch.backends.cudnn.deterministic = True\n",
    "#torch.backends.cudnn.benchmark = False"
   ]
  },
  {
   "cell_type": "code",
   "execution_count": 276,
   "metadata": {
    "colab": {
     "base_uri": "https://localhost:8080/"
    },
    "id": "m2dgUKPuJGX7",
    "outputId": "593a59ff-3c3a-436f-ddcf-577f1f148915"
   },
   "outputs": [],
   "source": [
    "# from google.colab import drive\n",
    "# drive.mount('/content/drive')"
   ]
  },
  {
   "cell_type": "code",
   "execution_count": 277,
   "metadata": {
    "colab": {
     "base_uri": "https://localhost:8080/"
    },
    "id": "2tQEQZvdYrpz",
    "outputId": "7304de04-5cb5-4e03-856a-a71356f92478"
   },
   "outputs": [],
   "source": [
    "# #data 다운로드\n",
    "# model_dir = './data'\n",
    "# os.makedirs(model_dir, exist_ok=True)\n",
    "\n",
    "# !unzip /content/drive/MyDrive/22.프로젝트/모의경진2차/train.zip -d /content/data  # unzip [FileName] -d(directoryoption)[directorPath]\n",
    "# !unzip /content/drive/MyDrive/22.프로젝트/모의경진2차/test.zip -d /content/data"
   ]
  },
  {
   "cell_type": "code",
   "execution_count": 278,
   "metadata": {
    "id": "YBrHmd5jjbg3"
   },
   "outputs": [],
   "source": [
    "# 데이터셋 경로 설정\n",
    "data_dir = '/Users/b12/Desktop/surpluss/모의2차/dataset'\n",
    "train_dir = data_dir + '/train'\n",
    "test_dir = data_dir + '/test'"
   ]
  },
  {
   "cell_type": "markdown",
   "metadata": {
    "id": "fzuzbADpjbg3"
   },
   "source": [
    "# Simple EDA"
   ]
  },
  {
   "cell_type": "code",
   "execution_count": 279,
   "metadata": {
    "colab": {
     "base_uri": "https://localhost:8080/"
    },
    "id": "wjXjcmC9jbg3",
    "outputId": "37e9d28a-1685-4657-843b-ad12ff73e6f1"
   },
   "outputs": [
    {
     "name": "stdout",
     "output_type": "stream",
     "text": [
      "total number of train dataset : 6820, defect : 30, normal : 6790 , mask : 30\n"
     ]
    }
   ],
   "source": [
    "# 데이터 수량 체크\n",
    "train_defect_images = glob(train_dir + '/defect_images/*.png')\n",
    "train_normal_images = glob(train_dir + '/normal_images/*.png')\n",
    "train_defect_mask_images = glob(train_dir + '/defect_masks/*.png')\n",
    "\n",
    "print(f'total number of train dataset : {len(train_defect_images) + len(train_normal_images)}, defect : {len(train_defect_images)}, normal : {len(train_normal_images)} , mask : {len(train_defect_mask_images)}')"
   ]
  },
  {
   "cell_type": "code",
   "execution_count": 280,
   "metadata": {
    "id": "s3gPPKiEiz5U"
   },
   "outputs": [],
   "source": [
    "# # 이미지를 OpenCV로 읽기\n",
    "# image = cv2.imread(train_defect_mask_images[0])\n",
    "# # 이미지의 해상도 확인\n",
    "# height, width, channels = image.shape\n",
    "# print(f\"Width: {width}, Height: {height}, Channels: {channels}\")\n",
    "\n",
    "# ### 이거 왜 3채널? -> penCV의 imread 함수는 흑백 이미지를 기본적으로 BGR 채널로 읽습니다. 따라서, 흑백 이미지임에도 불구하고 3개의 채널을 가지게 됩니다."
   ]
  },
  {
   "cell_type": "markdown",
   "metadata": {
    "id": "NRXJbNseSJgA"
   },
   "source": [
    "### Augumentation을 위한 데이터셋"
   ]
  },
  {
   "cell_type": "markdown",
   "metadata": {
    "id": "hkim0lEpTp6r"
   },
   "source": [
    "transform 1~4 : 짬뽕 intensity tooo lowwwwwwwwww<br>"
   ]
  },
  {
   "cell_type": "code",
   "execution_count": 281,
   "metadata": {
    "id": "R24wXM0FSWLa"
   },
   "outputs": [],
   "source": [
    "transforms1 = A.Compose([\n",
    "    A.AdvancedBlur(),\n",
    "    A.OneOf([A.HorizontalFlip(p=0.5),A.VerticalFlip(p=0.5)],p=1),\n",
    "    A.GaussNoise(p=0.5),\n",
    "    A.OneOf([A.RandomRotate90(), A.Rotate()]),\n",
    "    A.GridDistortion(num_steps=5, distort_limit=0.1, p=0.5, border_mode=cv2.BORDER_CONSTANT, value=0)\n",
    "])"
   ]
  },
  {
   "cell_type": "code",
   "execution_count": 282,
   "metadata": {
    "id": "mrp_JtrsXNWq"
   },
   "outputs": [],
   "source": [
    "transforms2 = A.Compose([\n",
    "    A.AdvancedBlur(),\n",
    "    A.HorizontalFlip(p=1),\n",
    "    A.GaussNoise(p=0.5),\n",
    "    A.OneOf([A.RandomRotate90(), A.Rotate()]),\n",
    "    A.OpticalDistortion(distort_limit=0.2, shift_limit=0.05, p=0.5, border_mode=cv2.BORDER_CONSTANT, value=0)\n",
    "])"
   ]
  },
  {
   "cell_type": "code",
   "execution_count": 283,
   "metadata": {
    "id": "agzctGqSXOb3"
   },
   "outputs": [],
   "source": [
    "transforms3 = A.Compose([\n",
    "    A.VerticalFlip(p=1),\n",
    "    A.GaussNoise(p=0.5),\n",
    "    A.OneOf([A.RandomRotate90(), A.Rotate()]),\n",
    "    A.OpticalDistortion(distort_limit=0.2, shift_limit=0.05, p=0.5, border_mode=cv2.BORDER_CONSTANT, value=0),\n",
    "])"
   ]
  },
  {
   "cell_type": "code",
   "execution_count": 284,
   "metadata": {
    "id": "-MSlYme8TI3T"
   },
   "outputs": [],
   "source": [
    "#No Flip,\n",
    "transforms4 = A.Compose([\n",
    "    A.AdvancedBlur(),\n",
    "    A.OneOf([A.RandomRotate90(), A.Rotate()]),\n",
    "    A.GridDistortion(num_steps=5, distort_limit=0.1, p=0.5, border_mode=cv2.BORDER_CONSTANT, value=0),\n",
    "])"
   ]
  },
  {
   "cell_type": "code",
   "execution_count": 285,
   "metadata": {
    "id": "ivlYT9WLRyM9"
   },
   "outputs": [],
   "source": [
    "#Blur + /Rotation,Flip/ + /Affine/Perspectie/ + /Distrotns, Elastictransform/ RandomGridShuffle / Noise\n",
    "######## 단일 transforms 의 intensity 는 높게 해야죠\n",
    "\n",
    "transforms5 = A.ZoomBlur (max_factor=1.15, step_factor=(0.02, 0.03), always_apply=False, p=1)\n",
    "transforms6 = A.VerticalFlip(p=1.0)\n",
    "transforms7 = A.HorizontalFlip(p=1.0)\n",
    "transforms8 = A.GlassBlur(sigma=0.7, max_delta=4, iterations=2, always_apply=False, mode='fast', p=1)\n",
    "transforms9 = A.GaussNoise (var_limit=(30.0, 50.0), mean=100, per_channel=True, always_apply=False, p=1)\n",
    "transforms10 = A.Compose([A.Affine(scale=(0.5, 2), p=1)])\n",
    "transforms11 = A.Perspective(p=1)\n",
    "transforms12 = A.Rotate(p=1)\n",
    "transforms13 = A.Sharpen(alpha=(0.5, 1.0), lightness=(0.5, 1.0), always_apply=False, p=1)\n",
    "transforms14 = A.RandomGridShuffle(grid =(5,5) ,always_apply = False , p =1)\n",
    "transforms15 = A.OpticalDistortion(distort_limit=3, shift_limit=0.05, p=1, border_mode=cv2.BORDER_CONSTANT, value=0)\n",
    "transforms16 = A.GridDistortion(num_steps=50, distort_limit=0.8, p=1, border_mode=cv2.BORDER_CONSTANT, value=0)\n",
    "transforms17 = A.AdvancedBlur(blur_limit=(7, 15),p=1)\n",
    "transforms18 = A.ElasticTransform(p=1, alpha=120, sigma=120 * 0.05, alpha_affine=120 * 0.03, border_mode=cv2.BORDER_CONSTANT, value=0)\n",
    "transforms19 = A.RandomGridShuffle(p=1)\n",
    "transforms20 = A.GlassBlur(sigma=0.7, max_delta=4, iterations=2, always_apply=False, mode='fast', p=1)\n",
    "transforms21 = A.MotionBlur(blur_limit=23, allow_shifted=True, always_apply=False, p=1)\n",
    "transforms22 = A.CoarseDropout(max_holes = 25 , max_height = 12 , max_width = 12 , min_holes = 15 ,\n",
    "min_height = None , min_width = None , fill_value = 0 , always_apply = False , p = 1 )\n",
    "transforms23 = A.Blur()"
   ]
  },
  {
   "cell_type": "markdown",
   "metadata": {
    "id": "hWeDlHbHoKG6"
   },
   "source": [
    "1Blur, sharpen<br>\n",
    "2Rotation,Flip<br>\n",
    "3Affine <br>\n",
    "4Distortions, Elastictransform<br>\n",
    "5RandomGridShuffle / Noise<br>\n",
    "6:Optional: Perspective , RandomGamma"
   ]
  },
  {
   "cell_type": "code",
   "execution_count": 286,
   "metadata": {
    "id": "-ar-SY9dofcs"
   },
   "outputs": [],
   "source": [
    "transforms24 = A.Compose([\n",
    "    A.Blur(p=1),\n",
    "    A.Rotate(),\n",
    "    A.OneOf([A.ElasticTransform(p=1, alpha=120, sigma=120 * 0.05, alpha_affine=120 * 0.03),\n",
    "    A.GridDistortion(num_steps=5, distort_limit=0.1, p=0.5, border_mode=cv2.BORDER_CONSTANT, value=0)])\n",
    "])"
   ]
  },
  {
   "cell_type": "code",
   "execution_count": 287,
   "metadata": {
    "id": "0BMGithtq6Rl"
   },
   "outputs": [],
   "source": [
    "transforms25 = A.Compose([\n",
    " #   A.Sharpen(alpha=(0.3, 0.5), lightness=(0.5, 1.0), always_apply=False, p=1),\n",
    "    A.VerticalFlip(p=1.0),\n",
    "    A.RandomGamma(p=1,gamma_limit=(100, 255)),\n",
    "    A.OneOf([A.GridDistortion(num_steps=5, distort_limit=0.1, p=0.5, border_mode=cv2.BORDER_CONSTANT, value=0),\n",
    "             A.OpticalDistortion(distort_limit=0.2, shift_limit=0.05, p=0.5, border_mode=cv2.BORDER_CONSTANT, value=0)],p=1)\n",
    "])"
   ]
  },
  {
   "cell_type": "code",
   "execution_count": 288,
   "metadata": {
    "id": "80Fx0G_krTIa"
   },
   "outputs": [],
   "source": [
    "transforms26 = A.Compose([\n",
    "    A.Sharpen(alpha=(0.5, 1.0), lightness=(0.5, 1.0), always_apply=False, p=1),\n",
    "    A.HorizontalFlip(p=1.0),\n",
    "    A.OneOf([A.GridDistortion(num_steps=5, distort_limit=0.1, p=0.5, border_mode=cv2.BORDER_CONSTANT, value=0),\n",
    "             A.OpticalDistortion(distort_limit=0.2, shift_limit=0.05, p=0.5, border_mode=cv2.BORDER_CONSTANT, value=0)],p=1)\n",
    "])"
   ]
  },
  {
   "cell_type": "code",
   "execution_count": 289,
   "metadata": {
    "id": "w8eVU2bHyk0y"
   },
   "outputs": [],
   "source": [
    "transforms27 = A.Compose([\n",
    "    A.Rotate(),\n",
    "    A.OneOf([A.ElasticTransform(p=1, alpha=120, sigma=120 * 0.05, alpha_affine=120 * 0.03),],p=1),\n",
    "    A.GridDistortion(num_steps=5, distort_limit=0.1, p=0.5, border_mode=cv2.BORDER_CONSTANT, value=0),\n",
    "    A.OpticalDistortion(distort_limit=0.2, shift_limit=0.05, p=0.5, border_mode=cv2.BORDER_CONSTANT, value=0)\n",
    "])"
   ]
  },
  {
   "cell_type": "code",
   "execution_count": 290,
   "metadata": {
    "id": "MAS9krsvyxDF"
   },
   "outputs": [],
   "source": [
    "##실험수정\n",
    "transforms28 = A.Compose([\n",
    "    A.GaussNoise(p=0.5,var_limit=(210.0, 250.0)),\n",
    "    A.Rotate(p=0.5),\n",
    "    A.RandomGamma(),\n",
    "    A.Affine(scale=(0.5, 2), p=1)#, mode=cv2.BORDER_CONSTANT)\n",
    "])"
   ]
  },
  {
   "cell_type": "code",
   "execution_count": 291,
   "metadata": {
    "id": "NeOBC4u1zBs3"
   },
   "outputs": [],
   "source": [
    "transforms29 = A.Compose([\n",
    "    A.GaussNoise(p=0.5),\n",
    "    A.AdvancedBlur(blur_limit=(7, 15),p=1),\n",
    "    A.RandomGridShuffle(grid =(3,3) ,always_apply = False , p =1)\n",
    "])"
   ]
  },
  {
   "cell_type": "code",
   "execution_count": 292,
   "metadata": {
    "id": "A6MuCk_rzNDZ"
   },
   "outputs": [],
   "source": [
    "transforms30 = A.Compose([\n",
    "    A.GaussNoise(p=0.5),\n",
    "    A.RandomGamma(p=1,gamma_limit=(100, 255)),\n",
    "    A.OneOf([A.HorizontalFlip(p=1), A.VerticalFlip(p=1)],p=1),\n",
    "    A.RandomGridShuffle(grid =(3,3) ,always_apply = False , p =1)\n",
    "])"
   ]
  },
  {
   "cell_type": "code",
   "execution_count": 293,
   "metadata": {
    "id": "HO9b9nurreMT"
   },
   "outputs": [],
   "source": [
    "transforms31 = A.Compose([\n",
    "    A.RandomGridShuffle(grid =(3,3) ,always_apply = False , p =1),\n",
    "    A.OneOf([A.HorizontalFlip(p=0.5),A.VerticalFlip(p=0.5)],p=1),\n",
    "    A.Perspective()\n",
    "])"
   ]
  },
  {
   "cell_type": "code",
   "execution_count": 294,
   "metadata": {
    "id": "JQEO8hhOsJIc"
   },
   "outputs": [],
   "source": [
    "transforms32 = A.Compose([\n",
    "    A.Affine(scale=(0.5, 2), p=1),\n",
    "    A.RandomGridShuffle(grid =(3,3) ,always_apply = False , p =1),\n",
    "    A.OneOf([A.HorizontalFlip(p=0.5),A.VerticalFlip(p=0.5)],p=1),\n",
    "])"
   ]
  },
  {
   "cell_type": "code",
   "execution_count": 295,
   "metadata": {
    "id": "l3HGAOe2sQ8G"
   },
   "outputs": [],
   "source": [
    "transforms33 = A.Compose([\n",
    "    A.CoarseDropout(max_holes = 25 , max_height = 12 , max_width = 12 , min_holes = 15 ,\n",
    "min_height = None , min_width = None , fill_value = 0 , always_apply = False , p = 1 ),\n",
    "    A.GridDistortion(num_steps=100, distort_limit=1, p=1)\n",
    "\n",
    "])\n"
   ]
  },
  {
   "cell_type": "code",
   "execution_count": 296,
   "metadata": {
    "id": "cnWfrHBgcRwG"
   },
   "outputs": [],
   "source": [
    "transforms34 = A.Compose([\n",
    "    A.CoarseDropout(max_holes = 25 , max_height = 12 , max_width = 12 , min_holes = 15 ,\n",
    "min_height = None , min_width = None , fill_value = 0 , always_apply = False , p = 1 ),\n",
    "    A.OpticalDistortion(distort_limit=2, shift_limit=0.2, p=1, border_mode=cv2.BORDER_CONSTANT, value=0)\n",
    "\n",
    "])"
   ]
  },
  {
   "cell_type": "code",
   "execution_count": 297,
   "metadata": {
    "id": "0KsT2kczcZdx"
   },
   "outputs": [],
   "source": [
    "transforms35 = A.Compose([\n",
    "    A.Rotate(),\n",
    "    A.Blur(),\n",
    "    A.RandomGridShuffle(grid =(3,3) ,always_apply = False , p =1),\n",
    "    A.ElasticTransform(p=1, alpha=120, sigma=120 * 0.05, alpha_affine=120 * 0.03, border_mode=cv2.BORDER_CONSTANT, value=0)\n",
    "])"
   ]
  },
  {
   "cell_type": "code",
   "execution_count": 298,
   "metadata": {
    "id": "1SCX256KcMiu"
   },
   "outputs": [],
   "source": [
    "transforms36 = A.Compose([\n",
    "    A.RandomGamma(p=1,gamma_limit=(50, 200)),\n",
    "    A.OneOf([A.OpticalDistortion(distort_limit=2, shift_limit=0.2, p=1, border_mode=cv2.BORDER_CONSTANT, value=0),\n",
    "             A.ElasticTransform(p=1, alpha=120, sigma=120 * 0.05, alpha_affine=120 * 0.03, border_mode=cv2.BORDER_CONSTANT, value=0),\n",
    "             A.GridDistortion(num_steps=100, distort_limit=1, p=1, border_mode=cv2.BORDER_CONSTANT, value=0)]),\n",
    "])"
   ]
  },
  {
   "cell_type": "code",
   "execution_count": 299,
   "metadata": {
    "id": "kkxM7YYFnCqG"
   },
   "outputs": [],
   "source": [
    "transforms37 = A.GridDropout(p=1)\n",
    "transforms38 = A.Resize(height=224, width=224,p=1)\n",
    "transforms39 = A.Compose([\n",
    "    A.GaussNoise(),\n",
    "    A.RandomGamma(),\n",
    "    A.GaussNoise(p=0.5)\n",
    "])\n",
    "transforms40 = A.Compose([\n",
    "    A.MotionBlur(),\n",
    "    A.Resize(128,128),\n",
    "    A.RandomGridShuffle()\n",
    "])\n",
    "transforms41 = A.Compose([\n",
    "    A.GlassBlur(),\n",
    "    A.Rotate(),\n",
    "    A.GridDropout()\n",
    "])\n",
    "transforms42 = A.Compose([\n",
    "    A.GridDistortion(border_mode=cv2.BORDER_CONSTANT, value=0),\n",
    "    A.Resize(224,224),\n",
    "    A.CoarseDropout()\n",
    "])\n",
    "transforms43 = A.Compose([\n",
    "    A.OpticalDistortion(border_mode=cv2.BORDER_CONSTANT, value=0),\n",
    "    A.CoarseDropout()\n",
    "])\n",
    "transforms44 = A.Compose([\n",
    "    A.MotionBlur(),\n",
    "    A.Resize(256,256),\n",
    "    A.RandomGridShuffle()\n",
    "])\n",
    "transforms45 = A.Compose([\n",
    "    A.RandomGamma(),\n",
    "    A.GaussNoise(p=0.5),\n",
    "    A.Perspective()\n",
    "])\n",
    "transforms46 = A.Compose([\n",
    "    A.HorizontalFlip(),\n",
    "    A.Resize(224,224)\n",
    "])\n",
    "transforms47 = A.Compose([\n",
    "    A.Resize(488,488),\n",
    "    A.RandomGridShuffle()\n",
    "])\n",
    "\n",
    "transforms48 = A.Compose([\n",
    "    A.Resize(224,224),\n",
    "    A.VerticalFlip(),\n",
    "    A.GridDropout()\n",
    "])\n",
    "\n",
    "transforms49 = A.Compose([\n",
    "    A.Resize(112,112),\n",
    "    A.Affine(scale=(0.5, 2), p=1)\n",
    "])\n",
    "\n",
    "transforms50 = A.Compose([\n",
    "    A.ElasticTransform(border_mode=cv2.BORDER_CONSTANT, value=0),\n",
    "    A.Resize(312,312),\n",
    "])\n",
    "transforms51 = A.Compose([\n",
    "    A.MotionBlur(),\n",
    "    A.CoarseDropout(),\n",
    "    A.OpticalDistortion(border_mode=cv2.BORDER_CONSTANT, value=0)\n",
    "\n",
    "])\n",
    "\n",
    "transforms52 = A.Compose([\n",
    "    A.GlassBlur(),\n",
    "    A.Resize(312,312),\n",
    "    A.GridDistortion(border_mode=cv2.BORDER_CONSTANT, value=0)\n",
    "])\n",
    "\n",
    "\n",
    "transforms53 = A.Compose([\n",
    "    A.Sharpen(),\n",
    "    A.Rotate(),\n",
    "    A.GaussNoise(p=0.5),\n",
    "])\n",
    "\n",
    "transforms54 = A.Compose([\n",
    "    A.MotionBlur(),\n",
    "    A.GaussNoise(p=0.5),\n",
    "    A.Rotate(),\n",
    "    A.Affine(scale=(0.5, 2), p=1)\n",
    "])"
   ]
  },
  {
   "cell_type": "code",
   "execution_count": 300,
   "metadata": {
    "id": "eo4m0itSu0lb"
   },
   "outputs": [],
   "source": [
    "#######################################"
   ]
  },
  {
   "cell_type": "code",
   "execution_count": 301,
   "metadata": {},
   "outputs": [
    {
     "data": {
      "text/plain": [
       "array([[[ 26,  26,  26],\n",
       "        [ 76,  76,  76],\n",
       "        [ 77,  77,  77],\n",
       "        ...,\n",
       "        [ 98,  98,  98],\n",
       "        [ 96,  96,  96],\n",
       "        [ 13,  13,  13]],\n",
       "\n",
       "       [[ 71,  71,  71],\n",
       "        [147, 147, 147],\n",
       "        [143, 143, 143],\n",
       "        ...,\n",
       "        [186, 186, 186],\n",
       "        [161, 161, 161],\n",
       "        [ 83,  83,  83]],\n",
       "\n",
       "       [[ 78,  78,  78],\n",
       "        [158, 158, 158],\n",
       "        [141, 141, 141],\n",
       "        ...,\n",
       "        [190, 190, 190],\n",
       "        [175, 175, 175],\n",
       "        [ 79,  79,  79]],\n",
       "\n",
       "       ...,\n",
       "\n",
       "       [[ 68,  68,  68],\n",
       "        [136, 136, 136],\n",
       "        [150, 150, 150],\n",
       "        ...,\n",
       "        [148, 148, 148],\n",
       "        [149, 149, 149],\n",
       "        [ 63,  63,  63]],\n",
       "\n",
       "       [[ 69,  69,  69],\n",
       "        [151, 151, 151],\n",
       "        [151, 151, 151],\n",
       "        ...,\n",
       "        [166, 166, 166],\n",
       "        [156, 156, 156],\n",
       "        [ 71,  71,  71]],\n",
       "\n",
       "       [[ 25,  25,  25],\n",
       "        [ 68,  68,  68],\n",
       "        [ 77,  77,  77],\n",
       "        ...,\n",
       "        [ 80,  80,  80],\n",
       "        [ 72,  72,  72],\n",
       "        [ 14,  14,  14]]], dtype=uint8)"
      ]
     },
     "execution_count": 301,
     "metadata": {},
     "output_type": "execute_result"
    }
   ],
   "source": [
    "cv2.imread(train_defect_images[1])"
   ]
  },
  {
   "cell_type": "code",
   "execution_count": 302,
   "metadata": {},
   "outputs": [
    {
     "data": {
      "text/plain": [
       "<matplotlib.image.AxesImage at 0x2866d0bb0>"
      ]
     },
     "execution_count": 302,
     "metadata": {},
     "output_type": "execute_result"
    },
    {
     "data": {
      "image/png": "[encoded data removed]",
      "text/plain": [
       "<Figure size 640x480 with 2 Axes>"
      ]
     },
     "metadata": {},
     "output_type": "display_data"
    }
   ],
   "source": [
    "#### TEST BLOCK #####\n",
    "transform99 = transforms28#A.GaussNoise(p=1)#,var_limit=(100.0, 500.0))\n",
    "\n",
    "#### transform 실행\n",
    "temp_img = train_defect_images[5]\n",
    "#cv2.imsread(temp_img)\n",
    "transformed_one= transform99(image=cv2.imread(train_defect_images[5]))\n",
    "plt.figure()\n",
    "plt.subplot(1,2,1)\n",
    "plt.title('raw')\n",
    "plt.imshow(cv2.imread(temp_img))\n",
    "plt.subplot(1,2,2)\n",
    "plt.title('transformed')\n",
    "plt.imshow(transformed_one['image'])"
   ]
  },
  {
   "cell_type": "code",
   "execution_count": null,
   "metadata": {},
   "outputs": [],
   "source": [
    "# 이미지 데이터 추출\n",
    "transformed_image = transformed_one['image']\n",
    "\n",
    "# 음수값이 있는 위치 찾기\n",
    "negative_positions = np.where(transformed_image < 0)\n",
    "\n",
    "# 음수값의 인덱스와 해당 값 출력\n",
    "for idx in zip(*negative_positions):\n",
    "    print(f\"Index: {idx}, Value: {transformed_image[idx]}\")\n"
   ]
  },
  {
   "cell_type": "code",
   "execution_count": null,
   "metadata": {
    "colab": {
     "base_uri": "https://localhost:8080/",
     "height": 326
    },
    "id": "lAGcSlYsTBR4",
    "outputId": "42f7b192-3656-49fa-f0b0-5efb77c1ac4a"
   },
   "outputs": [],
   "source": [
    "#### TEST BLOCK #####\n",
    "transform99 = A.RandomGamma(p=1,gamma_limit=(100, 255))\n",
    "\n",
    "#### transform 실행\n",
    "temp_img = train_defect_images[5]\n",
    "#cv2.imsread(temp_img)\n",
    "transformed_one= transform99(image=cv2.imread(train_defect_images[5]))\n",
    "plt.figure()\n",
    "plt.subplot(1,2,1)\n",
    "plt.title('raw')\n",
    "plt.imshow(cv2.imread(temp_img))\n",
    "plt.subplot(1,2,2)\n",
    "plt.title('transformed')\n",
    "plt.imshow(transformed_one['image'])\n"
   ]
  },
  {
   "cell_type": "markdown",
   "metadata": {
    "id": "zzEpKZs-jbg5"
   },
   "source": [
    "# Pytorch CustomDataset 클래스 정의"
   ]
  },
  {
   "cell_type": "code",
   "execution_count": 305,
   "metadata": {
    "id": "sgfNIN1N69jD"
   },
   "outputs": [],
   "source": [
    "label1 = [1] * len(train_defect_images)"
   ]
  },
  {
   "cell_type": "code",
   "execution_count": 306,
   "metadata": {
    "id": "zpNs4vldjbg6"
   },
   "outputs": [],
   "source": [
    "## 데이터 전처리 고도화 작업 필요\n",
    "class Aug(Dataset):\n",
    "    def __init__(self, image_paths, labels, transforms= None):\n",
    "        self.image_paths = image_paths\n",
    "        self.labels = labels\n",
    "        self.transform = transforms  ################ Augumentation\n",
    "\n",
    "    def __len__(self):\n",
    "        return len(self.image_paths)\n",
    "\n",
    "    def __getitem__(self, idx):\n",
    "        image_path = self.image_paths[idx]\n",
    "\n",
    "        if isinstance(image_path, str):  # 문자열인 경우, 파일 경로로 판단\n",
    "            image= cv2.imread(image_path, cv2.IMREAD_GRAYSCALE)\n",
    "        elif isinstance(image_path, np.ndarray):  # 넘파이 배열인 경우, 이미지 데이터로 판단\n",
    "            image = image_path\n",
    "\n",
    "        #image = cv2.imread(image_path, cv2.IMREAD_GRAYSCALE)  #IMREAD_GRAYSCALE 안쓰면 어차피 흑백이미지면   IMREAD_COLOR\n",
    "        image = image / 255.0 #scailing\n",
    "\n",
    "        if self.transform:\n",
    "            transformed = self.transform(image=image) #torch VS Albu\n",
    "            image = transformed['image']\n",
    "\n",
    "        label = self.labels[idx]\n",
    "        return image, label"
   ]
  },
  {
   "cell_type": "code",
   "execution_count": 307,
   "metadata": {
    "id": "6kIx8mFABgIZ"
   },
   "outputs": [],
   "source": [
    "class TestDataset(Dataset):\n",
    "    def __init__(self, image_paths, labels, transforms= None):\n",
    "        self.image_paths = image_paths\n",
    "        self.labels = labels\n",
    "        self.transform = transforms  ################ Augumentation\n",
    "\n",
    "    def __len__(self):\n",
    "        return len(self.image_paths)\n",
    "\n",
    "    def __getitem__(self, idx):\n",
    "        image_path = self.image_paths[idx]\n",
    "\n",
    "        if isinstance(image_path, str):  # 문자열인 경우, 파일 경로로 판단\n",
    "            image= cv2.imread(image_path, cv2.IMREAD_GRAYSCALE)\n",
    "        elif isinstance(image_path, np.ndarray):  # 넘파이 배열인 경우, 이미지 데이터로 판단\n",
    "            image = image_path\n",
    "\n",
    "        #image = cv2.imread(image_path, cv2.IMREAD_GRAYSCALE)  #IMREAD_GRAYSCALE 안쓰면 어차피 흑백이미지면   IMREAD_COLOR\n",
    "        image = image / 255.0 #scailing\n",
    "\n",
    "        if self.transform:\n",
    "            image = self.transform(image=image) #torch VS Albu\n",
    "\n",
    "        label = self.labels[idx]\n",
    "        return image, label"
   ]
  },
  {
   "cell_type": "code",
   "execution_count": 308,
   "metadata": {
    "id": "tguWs1LBRK9a"
   },
   "outputs": [],
   "source": [
    "aug_dict = {}\n",
    "for i in range(1, 55): # 1 to 58 inclusive\n",
    "    transform_var = f'transforms{i}'\n",
    "    try:\n",
    "        aug_dict[i] = Aug(train_defect_images, label1, locals()[transform_var])\n",
    "    except KeyError:\n",
    "        print(f\"Variable {transform_var} does not exist!\")\n",
    "    except Exception as e:\n",
    "        print(f\"Error while creating Aug for i={i}: {e}\")\n"
   ]
  },
  {
   "cell_type": "code",
   "execution_count": 309,
   "metadata": {
    "id": "gUDHoarIQ6Bx"
   },
   "outputs": [],
   "source": [
    "from torch.utils.data import ConcatDataset\n",
    "\n",
    "datasets = [aug_dict[i] for i in range(1, 55)]\n",
    "\n",
    "Aug_set = ConcatDataset(datasets)"
   ]
  },
  {
   "cell_type": "code",
   "execution_count": 310,
   "metadata": {
    "id": "oD4Vmc3X_VS6"
   },
   "outputs": [],
   "source": [
    "label0 = [0] * len(train_normal_images)"
   ]
  },
  {
   "cell_type": "code",
   "execution_count": 311,
   "metadata": {
    "id": "vgiwiLF8CfLh"
   },
   "outputs": [],
   "source": [
    "#기본 Raw이미지도 추가\n",
    "Raw_defectset = TestDataset(train_defect_images,labels=label1,transforms=None)"
   ]
  },
  {
   "cell_type": "code",
   "execution_count": 312,
   "metadata": {
    "id": "zxAdRMShBna1"
   },
   "outputs": [],
   "source": [
    "#Normal Image\n",
    "Normal_set = TestDataset(train_normal_images, labels = label0, transforms=None)"
   ]
  },
  {
   "cell_type": "markdown",
   "metadata": {
    "id": "5fILdlFJCxyE"
   },
   "source": [
    "Aug_set / Raw_defectset / Normal_set"
   ]
  },
  {
   "cell_type": "markdown",
   "metadata": {
    "id": "hKiIGEATVWqv"
   },
   "source": [
    "# Total Train /Test split"
   ]
  },
  {
   "cell_type": "code",
   "execution_count": 313,
   "metadata": {
    "id": "PqN_Maj1mG4i"
   },
   "outputs": [],
   "source": [
    "def collate_fn(batch):\n",
    "    # batch는 (image, label) 쌍의 리스트입니다.\n",
    "    images, labels = zip(*batch)\n",
    "\n",
    "    # 이미지들의 크기 중 가장 큰 크기를 구합니다.\n",
    "    max_height = max([img.shape[0] for img in images])\n",
    "    max_width = max([img.shape[1] for img in images])\n",
    "\n",
    "    # 패딩된 이미지를 저장할 리스트를 생성합니다.\n",
    "    padded_images = []\n",
    "    for img in images:\n",
    "        # 각 이미지를 max_height, max_width에 맞게 패딩합니다.\n",
    "        padding = ((0, max_height - img.shape[0]),\n",
    "                   (0, max_width - img.shape[1]))\n",
    "        padded_img = np.pad(img, padding, mode='constant', constant_values=0)\n",
    "        padded_images.append(padded_img)\n",
    "\n",
    "    # 이미지와 레이블을 텐서로 변환합니다.\n",
    "    images_tensor = torch.stack([torch.tensor(img) for img in padded_images], 0)\n",
    "    labels_tensor = torch.tensor(labels, dtype=torch.int64)\n",
    "\n",
    "    return images_tensor, labels_tensor\n",
    "\n"
   ]
  },
  {
   "cell_type": "code",
   "execution_count": 314,
   "metadata": {
    "id": "WgpR-CfVSnu5"
   },
   "outputs": [],
   "source": [
    "total_dataset = ConcatDataset([Aug_set, Raw_defectset, Normal_set])\n",
    "\n",
    "\n",
    "# 전체 라벨 목록을 생성합니다.\n",
    "total_label = (label1*55) + label0\n",
    "\n",
    "indices = list(range(len(total_dataset)))\n",
    "\n",
    "# train_test_split을 사용하여 데이터의 인덱스를 분할합니다.\n",
    "train_indices, val_indices, _, _ = train_test_split(\n",
    "    indices, total_label, test_size=0.3, random_state=42, stratify=total_label\n",
    ")\n",
    "\n",
    "# 분할된 인덱스를 사용하여 torch.utils.data.Subset으로 실제 Dataset을 생성합니다.\n",
    "train_subset = Subset(total_dataset, train_indices)\n",
    "val_subset = Subset(total_dataset, val_indices)\n",
    "\n",
    "train_loader = DataLoader(train_subset, batch_size=batch_size, shuffle=True, num_workers=0, pin_memory=False, collate_fn=collate_fn)\n",
    "test_loader = DataLoader(val_subset, batch_size=batch_size, shuffle=False, num_workers=0, pin_memory=False, collate_fn=collate_fn)\n"
   ]
  },
  {
   "cell_type": "code",
   "execution_count": 315,
   "metadata": {
    "colab": {
     "base_uri": "https://localhost:8080/",
     "height": 110
    },
    "id": "FIyqmAkajbg6",
    "outputId": "b6ea785d-2c02-4fe5-a845-2b0cd7c7bb9b"
   },
   "outputs": [
    {
     "data": {
      "text/plain": [
       "<Figure size 1800x1200 with 0 Axes>"
      ]
     },
     "metadata": {},
     "output_type": "display_data"
    },
    {
     "data": {
      "image/png": "[encoded data removed]",
      "text/plain": [
       "<Figure size 640x480 with 16 Axes>"
      ]
     },
     "metadata": {},
     "output_type": "display_data"
    }
   ],
   "source": [
    "# 데이터 샘플 체크\n",
    "plt.figure(figsize=(18,12))\n",
    "for batch in train_loader:\n",
    "    imgs, labels = batch\n",
    "    fig, axs = plt.subplots(ncols=len(imgs), squeeze=False) # 총 사진의 개수만큼 plot\n",
    "\n",
    "    for i, img in enumerate(imgs):\n",
    "        axs[0, i].imshow(img.squeeze(), cmap='gray')\n",
    "\n",
    "    break"
   ]
  },
  {
   "cell_type": "markdown",
   "metadata": {
    "id": "hxrkBxcKjbg6"
   },
   "source": [
    "# CNN Model 정의 (resnet18d)"
   ]
  },
  {
   "cell_type": "code",
   "execution_count": 316,
   "metadata": {
    "id": "u8WrLjRpG-EV"
   },
   "outputs": [],
   "source": [
    "#pretrained_model_list = timm.list_models(pretrained=True)\n",
    "#pretrained_model_list"
   ]
  },
  {
   "cell_type": "code",
   "execution_count": 317,
   "metadata": {
    "id": "n11xGdd5jbg6"
   },
   "outputs": [],
   "source": [
    "class Net(nn.Module):\n",
    "    def __init__(self):\n",
    "        super(Net, self).__init__()\n",
    "        self.encoder =  timm.create_model('efficientnet_b5', pretrained=True, in_chans=1)\n",
    "        #self.encoder = timm.models.vit_base_patch16_224(pretrained=True).to(device)\n",
    "        #self.encoder =  timm.create_model('resnet18d', pretrained=True, in_chans=1)\n",
    "        # self.encoder =  timm.create_model('resnet34d', pretrained=True, in_chans=1)\n",
    "\n",
    "        self.head = nn.Linear(1000, 1) #1000 : 모델마다 따른 head수치 but ImageNet-based , timm은 대부분 1000개의 분류를 사용하였음\n",
    "\n",
    "    def forward(self, image, mode='train'):\n",
    "        x = self.encoder(image)\n",
    "        output = self.head(x)\n",
    "        output = torch.sigmoid(output)   #-> (8,1) 확률값\n",
    "        return output"
   ]
  },
  {
   "cell_type": "markdown",
   "metadata": {
    "id": "hSsQpPBforKC"
   },
   "source": [
    "using DropOut in head"
   ]
  },
  {
   "cell_type": "code",
   "execution_count": 318,
   "metadata": {
    "id": "B8aVYUEtLyr4"
   },
   "outputs": [],
   "source": [
    "# class Net(nn.Module):\n",
    "#     def __init__(self):\n",
    "#         super(Net, self).__init__()\n",
    "#         self.encoder = timm.create_model('efficientnet_b4', pretrained=True, in_chans=1)\n",
    "\n",
    "#         self.head = nn.Sequential(\n",
    "#             nn.Linear(1000, 512),\n",
    "#             nn.ReLU(),\n",
    "#             nn.Dropout(0.5),\n",
    "#             nn.Linear(512, 1)\n",
    "#         )\n",
    "\n",
    "#     def forward(self, image, mode='train'):\n",
    "#         x = self.encoder(image)\n",
    "#         output = self.head(x)\n",
    "#         output = torch.sigmoid(output)\n",
    "#         return output"
   ]
  },
  {
   "cell_type": "code",
   "execution_count": 319,
   "metadata": {
    "id": "6G4jumJf9DG1"
   },
   "outputs": [],
   "source": [
    "#print(Net())"
   ]
  },
  {
   "cell_type": "markdown",
   "metadata": {
    "id": "dFwo2jffjbg6"
   },
   "source": [
    "# 모델, Loss, Optimizer 선언"
   ]
  },
  {
   "cell_type": "code",
   "execution_count": 320,
   "metadata": {
    "id": "dbuO_Z5bjbg6"
   },
   "outputs": [],
   "source": [
    "model = Net()\n",
    "model = model.to(device)\n",
    "\n",
    "criterion = nn.BCELoss()\n",
    "# weight = len(train_normal_images)/len(Augs_defect_images)\n",
    "# criterion = nn.BCEWithLogitsLoss(weight=None, size_average=None, reduce=None, reduction='mean', pos_weight=torch.tensor(weight))\n",
    "optimizer = torch.optim.AdamW(model.parameters(), lr=lr, weight_decay=0.0, amsgrad=False)\n",
    "scheduler = torch.optim.lr_scheduler.LambdaLR(optimizer=optimizer,lr_lambda=lambda epoch: 0.95 ** epoch,last_epoch=-1, verbose=False)"
   ]
  },
  {
   "cell_type": "markdown",
   "metadata": {
    "id": "yFKoQJX3jbg6"
   },
   "source": [
    "# 학습 모델 저장 경로 설정"
   ]
  },
  {
   "cell_type": "code",
   "execution_count": 321,
   "metadata": {
    "id": "qVSRhvmpjbg7"
   },
   "outputs": [],
   "source": [
    "model_dir = './models'\n",
    "os.makedirs(model_dir, exist_ok=True)"
   ]
  },
  {
   "cell_type": "markdown",
   "metadata": {
    "id": "lBTrZR2Njbg7"
   },
   "source": [
    "# 학습 및 검증"
   ]
  },
  {
   "cell_type": "code",
   "execution_count": 322,
   "metadata": {},
   "outputs": [
    {
     "data": {
      "text/plain": [
       "(array([[0.09019608, 0.31372549, 0.32156863, ..., 0.36470588, 0.31372549,\n",
       "         0.10588235],\n",
       "        [0.29411765, 0.63137255, 0.62352941, ..., 0.72156863, 0.67058824,\n",
       "         0.36078431],\n",
       "        [0.29411765, 0.63529412, 0.61176471, ..., 0.72941176, 0.72156863,\n",
       "         0.36470588],\n",
       "        ...,\n",
       "        [0.29803922, 0.60392157, 0.58039216, ..., 0.64313725, 0.61568627,\n",
       "         0.26666667],\n",
       "        [0.30196078, 0.61568627, 0.63137255, ..., 0.60784314, 0.6       ,\n",
       "         0.31764706],\n",
       "        [0.07843137, 0.32941176, 0.32156863, ..., 0.2627451 , 0.26666667,\n",
       "         0.03529412]]),\n",
       " 1)"
      ]
     },
     "execution_count": 322,
     "metadata": {},
     "output_type": "execute_result"
    }
   ],
   "source": [
    "train_subset[240]"
   ]
  },
  {
   "cell_type": "code",
   "execution_count": 323,
   "metadata": {
    "id": "qLyo6jwls46e"
   },
   "outputs": [],
   "source": [
    "# # Tensor NaN코드\n",
    "\n",
    "# for idx in range(len(train_subset)):\n",
    "#     data, label = train_subset[idx]\n",
    "#     data = torch.tensor(data)  # numpy 배열을 Tensor로 변환\n",
    "#     label = torch.tensor(label)  # numpy 배열을 Tensor로 변환\n",
    "\n",
    "#     if torch.isnan(data).any():\n",
    "#         print(f\"Found NaN in data at index {idx}!\")\n",
    "#     if torch.isnan(label).any():\n",
    "#        print(f\"Found NaN in label at index {idx}!\")\n"
   ]
  },
  {
   "cell_type": "code",
   "execution_count": 324,
   "metadata": {},
   "outputs": [
    {
     "data": {
      "text/plain": [
       "[17,\n",
       " 99,\n",
       " 24,\n",
       " 203,\n",
       " 92,\n",
       " 164,\n",
       " 175,\n",
       " 242,\n",
       " 117,\n",
       " 112,\n",
       " 85,\n",
       " 21,\n",
       " 38,\n",
       " 51,\n",
       " 235,\n",
       " 175,\n",
       " 218,\n",
       " 253,\n",
       " 165,\n",
       " 211,\n",
       " 117]"
      ]
     },
     "execution_count": 324,
     "metadata": {},
     "output_type": "execute_result"
    }
   ],
   "source": [
    "# # 문제가 발생한 train_subset의 인덱스들\n",
    "# problem_indices = [240, 337, 346, 407, 578, 741, 798, 1075, 2604, 2924, 3171, 3537, 3539, \n",
    "#                    3592, 4183, 5324, 5429, 5554, 5655, 5666, 5806]\n",
    "\n",
    "# # train_subset에서 원래의 total_dataset 인덱스를 찾습니다.\n",
    "# original_indices = [train_indices[idx] for idx in problem_indices]\n",
    "\n",
    "# # 각 Aug_set의 길이를 구합니다.\n",
    "# aug_set_length = len(train_defect_images)  # 각 Aug_set의 길이는 동일합니다.\n",
    "\n",
    "# # 원래 인덱스를 사용해 어느 transform에서 문제가 발생했는지 파악합니다.\n",
    "# problem_transforms = [(idx // aug_set_length) + 1 for idx in original_indices]\n",
    "\n",
    "# problem_transforms\n"
   ]
  },
  {
   "cell_type": "code",
   "execution_count": null,
   "metadata": {
    "colab": {
     "base_uri": "https://localhost:8080/"
    },
    "id": "5_h-kje5jbg7",
    "outputId": "45437f31-e47a-4a3e-a7e3-3d7c25b45baf"
   },
   "outputs": [
    {
     "name": "stderr",
     "output_type": "stream",
     "text": [
      "train-0: 100%|████████████████████████████████████████| 370/370 [10:05:31<00:00, 98.19s/it]\n",
      "val-0: 100%|█████████████████████████████████████████████| 159/159 [53:03<00:00, 20.02s/it]\n"
     ]
    },
    {
     "name": "stdout",
     "output_type": "stream",
     "text": [
      "metric_best (0.000000 --> 0.950148). Saving model ...\n",
      "Epoch: 0, Train Loss: 0.11425683227386578, Val Loss: 0.562337388440457, Train Acc: 0.9625930941096817, Val Acc: 0.9703791469194313, Train F1: 0.9393169318182504, Val F1: 0.9501477322993604\n"
     ]
    },
    {
     "name": "stderr",
     "output_type": "stream",
     "text": [
      "train-1:  24%|█████████▏                             | 87/370 [2:28:08<8:56:33, 113.76s/it]"
     ]
    }
   ],
   "source": [
    "# Train and Valid Loop\n",
    "\n",
    "metric_best = 0.\n",
    "model_file = os.path.join(model_dir, f'best.pt')\n",
    "\n",
    "for epoch in range(epochs):\n",
    "    # Train Loop\n",
    "    model.train()  # train mode 설정\n",
    "    train_loss = 0\n",
    "    train_outputs = []\n",
    "    train_labels = []\n",
    "    for batch in tqdm(train_loader, desc=f'train-{epoch}'):\n",
    "        imgs, labels = batch\n",
    "\n",
    "        # NaN 값을 0으로 대체 (Train)\n",
    "        imgs = torch.where(torch.isnan(imgs), torch.zeros_like(imgs), imgs)\n",
    "        labels = torch.where(torch.isnan(labels), torch.zeros_like(labels), labels)\n",
    "\n",
    "        imgs = imgs.to(device).float()\n",
    "        labels = labels.to(device)\n",
    "\n",
    "        optimizer.zero_grad()\n",
    "\n",
    "        output = model(imgs.unsqueeze(1))\n",
    "        loss = criterion(output, labels.unsqueeze(1).float())\n",
    "\n",
    "        loss.backward()\n",
    "        optimizer.step()\n",
    "\n",
    "        train_loss += loss.item()\n",
    "        train_outputs.append(output.cpu().detach())\n",
    "        train_labels.append(labels.cpu().detach())\n",
    "\n",
    "    train_loss /= len(train_loader)\n",
    "\n",
    "    # Validation Loop\n",
    "    val_loss = 0\n",
    "    val_outputs = []\n",
    "    val_labels = []\n",
    "    model.eval()  # we use BatchNormalization and dropout\n",
    "    with torch.no_grad():\n",
    "        for batch in tqdm(test_loader, desc=f'val-{epoch}'):\n",
    "            imgs, labels = batch\n",
    "\n",
    "            # NaN 값을 0으로 대체 (Validation)\n",
    "            imgs = torch.where(torch.isnan(imgs), torch.zeros_like(imgs), imgs)\n",
    "            labels = torch.where(torch.isnan(labels), torch.zeros_like(labels), labels)\n",
    "\n",
    "            imgs = imgs.to(device).float()\n",
    "            labels = labels.to(device)\n",
    "\n",
    "            output = model(imgs.unsqueeze(1))\n",
    "            loss = criterion(output, labels.unsqueeze(1).float())\n",
    "\n",
    "            val_loss += loss.item()\n",
    "            val_outputs.append(output.cpu().detach())\n",
    "            val_labels.append(labels.cpu().detach())\n",
    "\n",
    "    val_loss /= len(test_loader)\n",
    "    train_outputs = (torch.cat(train_outputs) > 0.5).float().squeeze(-1)\n",
    "    val_outputs = (torch.cat(val_outputs) > 0.5).float().squeeze(-1)\n",
    "    train_labels = torch.cat(train_labels)\n",
    "    val_labels = torch.cat(val_labels)\n",
    "\n",
    "    train_acc = accuracy_score(train_labels, train_outputs)\n",
    "    val_acc = accuracy_score(val_labels, val_outputs)\n",
    "\n",
    "    train_f1 = f1_score(train_labels, train_outputs, average='macro')\n",
    "    val_f1 = f1_score(val_labels, val_outputs, average='macro')\n",
    "\n",
    "    if val_f1 > metric_best:\n",
    "        print(f'metric_best ({metric_best:.6f} --> {val_f1:.6f}). Saving model ...')\n",
    "        torch.save(model.state_dict(), model_file)\n",
    "        metric_best = val_f1\n",
    "    scheduler.step()\n",
    "\n",
    "    print(f'Epoch: {epoch}, Train Loss: {train_loss}, Val Loss: {val_loss}, Train Acc: {train_acc}, Val Acc: {val_acc}, Train F1: {train_f1}, Val F1: {val_f1}')\n",
    "\n"
   ]
  },
  {
   "cell_type": "markdown",
   "metadata": {
    "id": "dtVaVvJLjbg7"
   },
   "source": [
    "# Pytorch CustomTestDataset 클래스 정의"
   ]
  },
  {
   "cell_type": "code",
   "execution_count": null,
   "metadata": {
    "id": "izD2Uqcpjbg7"
   },
   "outputs": [],
   "source": [
    "class CustomTestDataset(Dataset):\n",
    "    def __init__(self, image_paths, transform=None):\n",
    "        self.image_paths = image_paths\n",
    "        self.transform = transform\n",
    "\n",
    "    def __len__(self):\n",
    "        return len(self.image_paths)\n",
    "\n",
    "    def __getitem__(self, idx):\n",
    "\n",
    "        image_path = self.image_paths[idx]\n",
    "        image_name = os.path.basename(image_path)\n",
    "        image = cv2.imread(image_path, cv2.IMREAD_GRAYSCALE)\n",
    "        image = image / 255.0\n",
    "\n",
    "        if self.transform:\n",
    "            image = self.transform(image)\n",
    "\n",
    "        return image, image_name"
   ]
  },
  {
   "cell_type": "code",
   "execution_count": null,
   "metadata": {
    "id": "nlJqjJX2jbg7"
   },
   "outputs": [],
   "source": [
    "test_images = glob(test_dir + '/images/*.png')\n",
    "\n",
    "print(f'the number of test images : {len(test_images)}')"
   ]
  },
  {
   "cell_type": "code",
   "execution_count": null,
   "metadata": {
    "id": "YlwE7PDajbg7"
   },
   "outputs": [],
   "source": [
    "test_dataset = CustomTestDataset(test_images)\n",
    "test_loader = DataLoader(test_dataset, batch_size=batch_size, shuffle=False, num_workers=0, pin_memory=False)"
   ]
  },
  {
   "cell_type": "markdown",
   "metadata": {
    "id": "TFrN37Dmjbg7"
   },
   "source": [
    "# 학습된 모델 로드"
   ]
  },
  {
   "cell_type": "code",
   "execution_count": null,
   "metadata": {
    "id": "uKZkM1lvjbg7"
   },
   "outputs": [],
   "source": [
    "model_dir = './models'\n",
    "model_file = os.path.join(model_dir, f'best (1).pt')\n",
    "model = Net()\n",
    "model.load_state_dict(torch.load(model_file, map_location=device))\n",
    "model = model.to(device)"
   ]
  },
  {
   "cell_type": "markdown",
   "metadata": {
    "id": "tq6gjdetjbg7"
   },
   "source": [
    "# 추론 수행"
   ]
  },
  {
   "cell_type": "code",
   "execution_count": null,
   "metadata": {
    "id": "NvtpYdKwjbg8"
   },
   "outputs": [],
   "source": [
    "image_names = []\n",
    "test_outputs = []\n",
    "with torch.no_grad():\n",
    "    for i, batch in enumerate(tqdm(test_loader)):\n",
    "        imgs, image_name = batch\n",
    "        imgs = imgs.to(device).float()\n",
    "\n",
    "        output = model(imgs.unsqueeze(1))\n",
    "        test_outputs.append(output.cpu().detach())\n",
    "        image_names.extend(image_name)\n",
    "\n",
    "test_outputs = (torch.cat(test_outputs) > 0.5).int().squeeze(-1)"
   ]
  },
  {
   "cell_type": "markdown",
   "metadata": {
    "id": "wtUD4y80jbg8"
   },
   "source": [
    "# 추론 결과 저장"
   ]
  },
  {
   "cell_type": "code",
   "execution_count": null,
   "metadata": {
    "id": "xncJ8pBpccXb"
   },
   "outputs": [],
   "source": [
    "test_outputs.numpy().sum()"
   ]
  },
  {
   "cell_type": "code",
   "execution_count": null,
   "metadata": {
    "id": "ECAiHHZ4jbg8"
   },
   "outputs": [],
   "source": [
    "submission = pd.DataFrame({'ImageId': image_names, 'answer': test_outputs.tolist()})\n",
    "submission = submission.sort_values(by=['ImageId']).reset_index(drop=True)"
   ]
  },
  {
   "cell_type": "code",
   "execution_count": null,
   "metadata": {
    "id": "J6cI7WqCjbg8"
   },
   "outputs": [],
   "source": [
    "submission.to_csv('submission.csv', index=False)"
   ]
  },
  {
   "cell_type": "code",
   "execution_count": null,
   "metadata": {
    "id": "eVtXSdZLjbg8"
   },
   "outputs": [],
   "source": [
    "submission"
   ]
  },
  {
   "cell_type": "code",
   "execution_count": null,
   "metadata": {
    "id": "1Qz1xyBojbg8"
   },
   "outputs": [],
   "source": [
    "submission['answer'].value_counts()"
   ]
  },
  {
   "cell_type": "code",
   "execution_count": null,
   "metadata": {
    "id": "z3HARprFWxJD"
   },
   "outputs": [],
   "source": [
    "#############################################"
   ]
  },
  {
   "cell_type": "code",
   "execution_count": null,
   "metadata": {
    "id": "zZ60PrE_Uu1e"
   },
   "outputs": [],
   "source": [
    "#구글 드라이브에 저장\n",
    "#submission.to_csv('/content/drive/MyDrive/22.프로젝트/모의경진2차/submssion1006_1st.csv', index=False)\n",
    "submission.to_csv('submission.csv', index=False)"
   ]
  },
  {
   "cell_type": "code",
   "execution_count": null,
   "metadata": {
    "id": "2dW-BtfA25U0"
   },
   "outputs": [],
   "source": [
    "# import time\n",
    "# print (\"Sleep 5 seconds from now on...\")\n",
    "# time.sleep(90)\n",
    "# print(\"wake up!\")"
   ]
  },
  {
   "cell_type": "code",
   "execution_count": null,
   "metadata": {
    "id": "_nxj4WLxXFON"
   },
   "outputs": [],
   "source": [
    "# #submission 제출 후 colab연결 끊기 \n",
    "# from google.colab import runtime\n",
    "# runtime.unassign()"
   ]
  },
  {
   "cell_type": "code",
   "execution_count": null,
   "metadata": {
    "id": "S5dcEqx_zvXS"
   },
   "outputs": [],
   "source": []
  },
  {
   "cell_type": "code",
   "execution_count": null,
   "metadata": {
    "id": "5IbLEErHVFgo"
   },
   "outputs": [],
   "source": []
  },
  {
   "cell_type": "code",
   "execution_count": null,
   "metadata": {},
   "outputs": [],
   "source": []
  },
  {
   "cell_type": "code",
   "execution_count": null,
   "metadata": {},
   "outputs": [],
   "source": []
  }
 ],
 "metadata": {
  "colab": {
   "provenance": []
  },
  "kernelspec": {
   "display_name": "Python 3 (ipykernel)",
   "language": "python",
   "name": "python3"
  },
  "language_info": {
   "codemirror_mode": {
    "name": "ipython",
    "version": 3
   },
   "file_extension": ".py",
   "mimetype": "text/x-python",
   "name": "python",
   "nbconvert_exporter": "python",
   "pygments_lexer": "ipython3",
   "version": "3.9.16"
  }
 },
 "nbformat": 4,
 "nbformat_minor": 4
}
